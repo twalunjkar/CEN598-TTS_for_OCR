{
  "nbformat": 4,
  "nbformat_minor": 0,
  "metadata": {
    "colab": {
      "provenance": []
    },
    "kernelspec": {
      "name": "python3",
      "display_name": "Python 3"
    },
    "language_info": {
      "name": "python"
    }
  },
  "cells": [
    {
      "cell_type": "code",
      "execution_count": null,
      "metadata": {
        "id": "EU9NmWKhOmy4"
      },
      "outputs": [],
      "source": [
        "import matplotlib.pyplot as plt\n",
        "from keras.layers import Dense, LSTM, Reshape, BatchNormalization, Input, Conv2D, MaxPool2D, Lambda, Bidirectional, Dropout\n",
        "from keras.models import Model\n",
        "from keras.activations import relu, sigmoid, softmax\n",
        "import keras.backend as K\n",
        "from keras.utils import to_categorical\n",
        "from keras.callbacks import ModelCheckpoint\n",
        "import keras\n",
        "import numpy as np\n",
        "from IPython.display import display, Image"
      ]
    },
    {
      "cell_type": "code",
      "source": [
        "input_layer = Input(shape=(32,128,1))\n",
        "normalized_inputs = Lambda(lambda x: x / 255) (input_layer)\n",
        "\n",
        "conv_layer1 = Conv2D(16, (3,3), activation = 'relu', kernel_initializer='he_normal' ,padding='same')(normalized_inputs)\n",
        "conv_layer1 = Dropout(0.25)(conv_layer1)\n",
        "conv_layer1 = Conv2D(32, (3,3), activation = 'relu', kernel_initializer='he_normal' ,padding='same')(conv_layer1)\n",
        "pool_layer1 = MaxPool2D(pool_size=(2, 2), strides=2)(conv_layer1)\n",
        "\n",
        "conv_layer2 = Conv2D(32, (3,3), activation = 'relu',kernel_initializer='he_normal' , padding='same')(pool_layer1)\n",
        "conv_layer2 = BatchNormalization(axis=-1)(conv_layer2)\n",
        "conv_layer2 = Dropout(0.25)(conv_layer2)\n",
        "conv_layer2 = Conv2D(32, (3,3), activation = 'relu', kernel_initializer='he_normal' ,padding='same')(conv_layer2)\n",
        "pool_layer2 = MaxPool2D(pool_size=(2, 2), strides=2)(conv_layer2)\n",
        "\n",
        "conv_layer3 = Conv2D(32, (3,3), activation = 'relu', kernel_initializer='he_normal' ,padding='same')(pool_layer2)\n",
        "conv_layer3 = BatchNormalization(axis=-1)(conv_layer3)\n",
        "conv_layer3 = Dropout(0.25)(conv_layer3)\n",
        "conv_layer3 = Conv2D(32, (3,3), activation = 'relu', kernel_initializer='he_normal' ,padding='same')(conv_layer3)\n",
        "conv_layer4 = Conv2D(64, (3,3), activation = 'relu', kernel_initializer='he_normal' ,padding='same')(conv_layer3)\n",
        "pool_layer4 = MaxPool2D(pool_size=(2, 1))(conv_layer4)\n",
        "\n",
        "conv_layer5 = Conv2D(256, (3,3), activation = 'relu',kernel_initializer='he_normal' , padding='same')(pool_layer4)\n",
        "batch_norm_layer5 = BatchNormalization()(conv_layer5)\n",
        "\n",
        "conv_layer6 = Conv2D(256, (3,3), activation = 'relu',kernel_initializer='he_normal' , padding='same')(batch_norm_layer5)\n",
        "batch_norm_layer6 = BatchNormalization()(conv_layer6)\n",
        "pool_layer6 = MaxPool2D(pool_size=(2, 1))(batch_norm_layer6)\n",
        "\n",
        "conv_layer7 = Conv2D(512, (2,2), activation = 'relu')(pool_layer6)\n",
        "\n",
        "squeezed_layer = Lambda(lambda x: K.squeeze(x, 1))(conv_layer7)\n",
        "\n",
        "blstm_layer1 = Bidirectional(LSTM(128, return_sequences=True, dropout = 0.2))(squeezed_layer)\n",
        "blstm_layer2 = Bidirectional(LSTM(128, return_sequences=True, dropout = 0.2))(blstm_layer1)\n",
        "\n",
        "output_layer = Dense(62+1, activation = 'softmax')(blstm_layer2)\n",
        "\n",
        "# model to be used at test time\n",
        "model = Model(input_layer, output_layer)\n",
        "\n",
        "model.summary()"
      ],
      "metadata": {
        "id": "p4MSqvOgOona"
      },
      "execution_count": null,
      "outputs": []
    },
    {
      "cell_type": "code",
      "source": [
        "def display_image_and_prediction(x,y):\n",
        "\n",
        "  # load the saved best model weights\n",
        "  model.load_weights(r'C:\\Users\\twalunjk\\Downloads\\DL\\save\\best_model.hdf5')\n",
        "  prediction = model.predict(x.reshape(1,32,128,1))\n",
        "\n",
        "  # use CTC decoder\n",
        "  out = K.get_value(K.ctc_decode(prediction, input_length=np.ones(prediction.shape[0])*prediction.shape[1],\n",
        "                         greedy=True)[0][0])\n",
        "  x = x.reshape(32,128)\n",
        "  plt.title('Input Image')\n",
        "  plt.imshow(x)\n",
        "  plt.axis('off')\n",
        "  plt.show()\n",
        "\n",
        "  # see the results\n",
        "  for x in out:\n",
        "      print(\"predicted text = \", end = '')\n",
        "      for p in x:\n",
        "          if int(p) != -1:\n",
        "              print(char_list[int(p)], end = '')\n",
        "      print('\\n')\n",
        "\n",
        "for _ in range(8):\n",
        "  i = np.random.randint(300000)\n",
        "  display_image_and_prediction(training_img[i],train_padded_txt[i])"
      ],
      "metadata": {
        "id": "l65WjWpmO1ub"
      },
      "execution_count": null,
      "outputs": []
    }
  ]
}