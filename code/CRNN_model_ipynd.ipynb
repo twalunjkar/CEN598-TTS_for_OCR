{
  "nbformat": 4,
  "nbformat_minor": 0,
  "metadata": {
    "colab": {
      "provenance": []
    },
    "kernelspec": {
      "name": "python3",
      "display_name": "Python 3"
    },
    "language_info": {
      "name": "python"
    }
  },
  "cells": [
    {
      "cell_type": "code",
      "execution_count": null,
      "metadata": {
        "id": "RX5WB8iIkncN"
      },
      "outputs": [],
      "source": [
        "from keras.layers import Dense, LSTM, Reshape, BatchNormalization, Input, Conv2D, MaxPool2D, Lambda, Bidirectional, Dropout\n",
        "from keras.models import Model\n",
        "from keras.activations import relu, sigmoid, softmax\n",
        "import keras.backend as K\n",
        "from keras.utils import to_categorical\n",
        "from keras.callbacks import ModelCheckpoint\n",
        "import keras\n",
        "import numpy as np\n",
        "import string\n",
        "import matplotlib.pyplot as plt"
      ]
    },
    {
      "cell_type": "code",
      "source": [
        "# Load saved data\n",
        "save_path = r'C:\\Users\\twalunjk\\Downloads\\DL\\save'\n",
        "label_lengths = np.load(os.path.join(save_path, 'label_lengths.npy'))\n",
        "input_lengths = np.load(os.path.join(save_path, 'input_lengths.npy'))\n",
        "images = np.load(os.path.join(save_path, 'images.npy'))\n",
        "padded_texts = np.load(os.path.join(save_path, 'padded_texts.npy'))\n",
        "max_label_len = np.load(os.path.join(save_path, 'max_text_len.npy'))\n"
      ],
      "metadata": {
        "id": "445HjZe6KE0h"
      },
      "execution_count": null,
      "outputs": []
    },
    {
      "cell_type": "code",
      "source": [
        "print(label_lengths.shape)\n",
        "print(input_lengths.shape)\n",
        "print(images.shape)\n",
        "print(padded_texts.shape)"
      ],
      "metadata": {
        "id": "Kol_cEtpM8td"
      },
      "execution_count": null,
      "outputs": []
    },
    {
      "cell_type": "code",
      "source": [
        "# Define character list\n",
        "characters = string.ascii_letters + string.digits"
      ],
      "metadata": {
        "id": "Azno8727M8hO"
      },
      "execution_count": null,
      "outputs": []
    },
    {
      "cell_type": "code",
      "source": [
        "# Define input layer\n",
        "input_layer = Input(shape=(32, 128, 1))\n",
        "normalized_inputs = Lambda(lambda x: x / 255)(input_layer)\n",
        "\n",
        "# Convolutional layers\n",
        "conv_layer1 = Conv2D(16, (3, 3), activation='relu', kernel_initializer='he_normal', padding='same')(normalized_inputs)\n",
        "conv_layer1 = Dropout(0.25)(conv_layer1)\n",
        "conv_layer1 = Conv2D(32, (3, 3), activation='relu', kernel_initializer='he_normal', padding='same')(conv_layer1)\n",
        "pool_layer1 = MaxPool2D(pool_size=(2, 2), strides=2)(conv_layer1)\n",
        "\n",
        "conv_layer2 = Conv2D(32, (3, 3), activation='relu', kernel_initializer='he_normal', padding='same')(pool_layer1)\n",
        "conv_layer2 = BatchNormalization(axis=-1)(conv_layer2)\n",
        "conv_layer2 = Dropout(0.25)(conv_layer2)\n",
        "conv_layer2 = Conv2D(32, (3, 3), activation='relu', kernel_initializer='he_normal', padding='same')(conv_layer2)\n",
        "pool_layer2 = MaxPool2D(pool_size=(2, 2), strides=2)(conv_layer2)\n",
        "\n",
        "conv_layer3 = Conv2D(32, (3, 3), activation='relu', kernel_initializer='he_normal', padding='same')(pool_layer2)\n",
        "conv_layer3 = BatchNormalization(axis=-1)(conv_layer3)\n",
        "conv_layer3 = Dropout(0.25)(conv_layer3)\n",
        "conv_layer3 = Conv2D(32, (3, 3), activation='relu', kernel_initializer='he_normal', padding='same')(conv_layer3)\n",
        "conv_layer4 = Conv2D(64, (3, 3), activation='relu', kernel_initializer='he_normal', padding='same')(conv_layer3)\n",
        "pool_layer4 = MaxPool2D(pool_size=(2, 1))(conv_layer4)\n",
        "\n",
        "conv_layer5 = Conv2D(256, (3, 3), activation='relu', kernel_initializer='he_normal', padding='same')(pool_layer4)\n",
        "batch_norm_layer5 = BatchNormalization()(conv_layer5)\n",
        "\n",
        "conv_layer6 = Conv2D(256, (3, 3), activation='relu', kernel_initializer='he_normal', padding='same')(batch_norm_layer5)\n",
        "batch_norm_layer6 = BatchNormalization()(conv_layer6)\n",
        "pool_layer6 = MaxPool2D(pool_size=(2, 1))(batch_norm_layer6)\n",
        "\n",
        "conv_layer7 = Conv2D(512, (2, 2), activation='relu')(pool_layer6)\n",
        "\n",
        "squeezed_layer = Lambda(lambda x: K.squeeze(x, 1))(conv_layer7)\n",
        "\n",
        "# Additional LSTM layers\n",
        "blstm_layer1 = Bidirectional(LSTM(128, return_sequences=True, dropout=0.2))(squeezed_layer)\n",
        "blstm_layer2 = Bidirectional(LSTM(128, return_sequences=True, dropout=0.2))(blstm_layer1)\n",
        "blstm_layer3 = Bidirectional(LSTM(128, return_sequences=True, dropout=0.2))(blstm_layer2)\n",
        "blstm_layer4 = Bidirectional(LSTM(128, return_sequences=True, dropout=0.2))(blstm_layer3)\n",
        "\n",
        "output_layer = Dense(len(characters) + 1, activation='softmax')(blstm_layer4)\n",
        "\n",
        "# model to be used at test time\n",
        "model = Model(input_layer, output_layer)\n",
        "\n",
        "model.summary()"
      ],
      "metadata": {
        "id": "RFDFznWaND97"
      },
      "execution_count": null,
      "outputs": []
    },
    {
      "cell_type": "code",
      "source": [
        "labels = Input(name='the_labels', shape=[max_label_len], dtype='float32')\n",
        "input_length = Input(name='input_length', shape=[1], dtype='int64')\n",
        "label_length = Input(name='label_length', shape=[1], dtype='int64')\n",
        "\n",
        "def ctc_lambda_func(args):\n",
        "    y_pred, labels, input_length, label_length = args\n",
        "    return K.ctc_batch_cost(labels, y_pred, input_length, label_length)\n",
        "\n",
        "loss_out = Lambda(ctc_lambda_func, output_shape=(1,), name='ctc')([output_layer, labels, input_length, label_length])\n",
        "\n",
        "def display_image_and_prediction(x, y):\n",
        "    model.load_weights(os.path.join(save_path, 'best_model.hdf5'))\n",
        "    model.save(os.path.join(save_path, 'act_model.hdf5'))\n",
        "    prediction = model.predict(x.reshape(1, 32, 128, 1))\n",
        "    out = K.get_value(K.ctc_decode(prediction, input_length=np.ones(prediction.shape[0]) * prediction.shape[1],\n",
        "                                   greedy=True)[0][0])\n",
        "    x = x.reshape(32, 128)\n",
        "    plt.title('Input Image')\n",
        "    plt.imshow(x)\n",
        "    plt.axis('off')\n",
        "    plt.show()\n",
        "    for x in out:\n",
        "        print(\"predicted text = \", end='')\n",
        "        for p in x:\n",
        "            if int(p) != -1:\n",
        "                print(characters[int(p)], end='')\n",
        "        print('\\n')\n",
        "\n",
        "\n",
        "class DisplayCallback(keras.callbacks.Callback):\n",
        "    def on_epoch_end(self, epoch, logs=None):\n",
        "        global model\n",
        "        model.save(os.path.join(save_path, 'model.h5'))\n",
        "        i = np.random.randint(300000)\n",
        "        display_image_and_prediction(images[i], padded_texts[i])"
      ],
      "metadata": {
        "id": "l3BExRZHNMfn"
      },
      "execution_count": null,
      "outputs": []
    },
    {
      "cell_type": "code",
      "source": [
        "%xmode Verbose\n",
        "\n",
        "batch_size = 1026\n",
        "epochs = 20\n",
        "\n",
        "callbacks_list = [checkpoint, DisplayCallback()]\n",
        "\n",
        "model.fit(x=[images, padded_texts, input_lengths, label_lengths],\n",
        "          y=np.zeros(len(images)),\n",
        "          batch_size=batch_size,\n",
        "          epochs=epochs,\n",
        "          validation_split=0.08,\n",
        "          verbose=1,\n",
        "          callbacks=callbacks_list)\n",
        "\n",
        "model.save(os.path.join(save_path, 'best_model.hdf5'))"
      ],
      "metadata": {
        "id": "mYBTcbnmNSuf"
      },
      "execution_count": null,
      "outputs": []
    }
  ]
}